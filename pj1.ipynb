{
 "cells": [
  {
   "cell_type": "code",
   "execution_count": 2,
   "id": "b40ecf7e-1a9c-4e7f-824e-ac50def0cb4e",
   "metadata": {},
   "outputs": [
    {
     "name": "stdout",
     "output_type": "stream",
     "text": [
      "[[0.11851905 0.5089495  0.21906537 0.74760405]\n",
      " [0.0436764  0.83243664 0.06062719 0.47807376]\n",
      " [0.27002704 0.82064056 0.88605243 0.77522574]\n",
      " [0.94099695 0.36607503 0.16260684 0.5074163 ]]\n",
      "[[0.83243664 0.74760405]\n",
      " [0.94099695 0.88605243]]\n"
     ]
    }
   ],
   "source": [
    "import numpy as np\n",
    "\n",
    "# 가상의 이미지 데이터 생성 (4x4 픽셀, 흑백)\n",
    "image = np.random.rand(4, 4)\n",
    "\n",
    "# 1. Max Pooling\n",
    "def max_pooling(image, pool_size):\n",
    "    output_size = np.array(image.shape) // pool_size\n",
    "    pooled_image = np.zeros(output_size)\n",
    "    for i in range(output_size[0]):\n",
    "        for j in range(output_size[1]):\n",
    "            pooled_image[i, j] = np.max(image[i*pool_size:(i+1)*pool_size, j*pool_size:(j+1)*pool_size])\n",
    "    return pooled_image\n",
    "    \n",
    "pooled_image = max_pooling(image, 2)\n",
    "\n",
    "print(image)\n",
    "print(pooled_image)\n"
   ]
  },
  {
   "cell_type": "code",
   "execution_count": 10,
   "id": "a119302e-9889-497d-b503-74e9bbf170c6",
   "metadata": {},
   "outputs": [
    {
     "name": "stdout",
     "output_type": "stream",
     "text": [
      "[[0.38707933 0.2530245  0.88388918 0.07241481]\n",
      " [0.45119093 0.66932842 0.8236319  0.08690929]\n",
      " [0.29212855 0.79569632 0.34400005 0.0020026 ]\n",
      " [0.6270108  0.20089417 0.53458034 0.2937728 ]]\n",
      "[[0.         0.         0.         0.         0.         0.        ]\n",
      " [0.         0.38707933 0.2530245  0.88388918 0.07241481 0.        ]\n",
      " [0.         0.45119093 0.66932842 0.8236319  0.08690929 0.        ]\n",
      " [0.         0.29212855 0.79569632 0.34400005 0.0020026  0.        ]\n",
      " [0.         0.6270108  0.20089417 0.53458034 0.2937728  0.        ]\n",
      " [0.         0.         0.         0.         0.         0.        ]]\n",
      "[[0.66932842 0.8236319 ]\n",
      " [0.79569632 0.34400005]]\n"
     ]
    }
   ],
   "source": [
    "import numpy as np\n",
    "\n",
    "image = np.random.rand(4,4)\n",
    "\n",
    "# 2 & 3. Padding (Zero-padding)\n",
    "def padding(image, pad_width):\n",
    "     if pad_width < 1:\n",
    "        return image\n",
    "     else:\n",
    "        height, width = image.shape\n",
    "        # 새로운 이미지의 높이와 너비 계산\n",
    "        new_height = height + 2*pad_width\n",
    "        new_width = width + 2*pad_width\n",
    "        # 0으로 채워진 새로운 이미지 생성\n",
    "        padded_image = np.zeros((new_height, new_width))\n",
    "        # 원본 이미지를 새 이미지의 중앙에 배치\n",
    "        padded_image[pad_width:-pad_width, pad_width:-pad_width] = image\n",
    "        return padded_image\n",
    "         \n",
    "def crop(image, start_row, start_col, height, width):\n",
    "    # 주어진 시작점과 높이, 너비를 사용하여 이미지를 자름\n",
    "    cropped_image = image[start_row:start_row+height, start_col:start_col+width]\n",
    "    return cropped_image\n",
    "\n",
    "# 적용 예시\n",
    "padded_image = padding(image,1)\n",
    "cropped_image = crop(image,1,1,2,2)\n",
    "print(image)\n",
    "print(padded_image)\n",
    "print(cropped_image)"
   ]
  },
  {
   "cell_type": "code",
   "execution_count": 12,
   "id": "852a25a3-5626-4d77-ac14-9f14831a7cb4",
   "metadata": {},
   "outputs": [
    {
     "name": "stdout",
     "output_type": "stream",
     "text": [
      "[[0.42657017 0.25926069 0.76859878 0.24212843]\n",
      " [0.70975931 0.53024716 0.80688732 0.92068648]\n",
      " [0.67829999 0.40697591 0.2778079  0.09027853]\n",
      " [0.07075926 0.86752488 0.24122571 0.95691614]]\n",
      "[[0.24212843 0.76859878 0.25926069 0.42657017]\n",
      " [0.92068648 0.80688732 0.53024716 0.70975931]\n",
      " [0.09027853 0.2778079  0.40697591 0.67829999]\n",
      " [0.95691614 0.24122571 0.86752488 0.07075926]]\n"
     ]
    }
   ],
   "source": [
    "import numpy as np\n",
    "\n",
    "image = np.random.rand(4, 4)\n",
    "\n",
    "def flip_image(image, axis):\n",
    "    # Assuming image is a 2D or 3D numpy array\n",
    "    if axis == 'horizontal':\n",
    "        # Flip horizontally\n",
    "        return image[:, ::-1]\n",
    "    elif axis == 'vertical':\n",
    "        # Flip vertically\n",
    "        return image[::-1, :]\n",
    "    else:\n",
    "        raise ValueError(\"Axis must be 'horizontal' or 'vertical'\")\n",
    "flipped_image = flip_image(image, 'horizontal')\n",
    "print(image)\n",
    "print(flipped_image)\n"
   ]
  },
  {
   "cell_type": "code",
   "execution_count": 13,
   "id": "6c62b372-d6b6-4b59-838b-2bb4241d4814",
   "metadata": {},
   "outputs": [
    {
     "name": "stdout",
     "output_type": "stream",
     "text": [
      "[[0.8610963  0.21414528 0.72156418 0.62788133]\n",
      " [0.91453338 0.85769296 0.70964614 0.63300469]\n",
      " [0.41869039 0.90661413 0.25833853 0.63708737]\n",
      " [0.53615208 0.5321707  0.86044261 0.08701328]]\n",
      "[0.8610963  0.21414528 0.72156418 0.62788133 0.91453338 0.85769296\n",
      " 0.70964614 0.63300469 0.41869039 0.90661413 0.25833853 0.63708737\n",
      " 0.53615208 0.5321707  0.86044261 0.08701328]\n",
      "[[0.93542504 0.15363011 0.76681026 0.6536011 ]\n",
      " [1.         0.93131234 0.75240814 0.65979232]\n",
      " [0.40080853 0.99043015 0.20703454 0.66472595]\n",
      " [0.54275274 0.53794152 0.9346351  0.        ]]\n"
     ]
    }
   ],
   "source": [
    "import numpy as np\n",
    "image = np.random.rand(4, 4)\n",
    "# 6. Flatten\n",
    "def flatten(image):\n",
    "    return image.flatten()\n",
    "# 7. Normalization\n",
    "def normalize(image):\n",
    "    return (image - np.min(image)) / (np.max(image) - np.min(image))\n",
    "# 적용 예시\n",
    "flattened_image = flatten(image)\n",
    "normalized_image = normalize(image)\n",
    "\n",
    "print(image)\n",
    "print(flattened_image)\n",
    "print(normalized_image)"
   ]
  },
  {
   "cell_type": "code",
   "execution_count": null,
   "id": "8749cc73-f4f3-43c3-9c89-219d9b559541",
   "metadata": {},
   "outputs": [],
   "source": []
  }
 ],
 "metadata": {
  "kernelspec": {
   "display_name": "Python 3 (ipykernel)",
   "language": "python",
   "name": "python3"
  },
  "language_info": {
   "codemirror_mode": {
    "name": "ipython",
    "version": 3
   },
   "file_extension": ".py",
   "mimetype": "text/x-python",
   "name": "python",
   "nbconvert_exporter": "python",
   "pygments_lexer": "ipython3",
   "version": "3.12.2"
  }
 },
 "nbformat": 4,
 "nbformat_minor": 5
}
